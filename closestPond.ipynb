{
  "cells": [
    {
      "cell_type": "code",
      "source": [
        "# approximate radius of earth in km\n",
        "# example 278.546\n",
        "\n",
        "# Take the data from the coal ash locations\n",
        "# traverse the data from the soil samples --> while traversing array calculate distance between two points and keep the shortest one.\n",
        "# Do this while it traverses all the arrays\n",
        "\n",
        "from math import sin, cos, sqrt, atan2, radians\n",
        "import csv\n",
        "import pandas as pd\n",
        "\n",
        "def find_distance(lat1,lon1,lat2,lon2):\n",
        "  R = 6373.0\n",
        "  dlon = lon2 - lon1\n",
        "  dlat = lat2 - lat1\n",
        "\n",
        "  a = sin(dlat / 2)**2 + cos(lat1) * cos(lat2) * sin(dlon / 2)**2\n",
        "  c = 2 * atan2(sqrt(a), sqrt(1 - a))\n",
        "\n",
        "  distance = R * c\n",
        "  return distance\n",
        "\n",
        "\n",
        "\n",
        "#coal ash\n",
        "coalash = 'Coal Ash.csv'\n",
        "#soil sample sites\n",
        "soil = 'soil.csv'\n",
        "\n",
        "def read_cell_coal_ash(x, y):\n",
        "    with open('Coal Ash.csv', 'r') as f:\n",
        "        reader = csv.reader(f)\n",
        "        y_count = 0\n",
        "        for n in reader:\n",
        "            if y_count == y:\n",
        "                cell = n[x]\n",
        "                return cell\n",
        "            y_count += 1\n",
        "\n",
        "def read_cell_soil(x, y):\n",
        "    with open('soil.csv', 'r') as f:\n",
        "        reader = csv.reader(f)\n",
        "        y_count = 0\n",
        "        for n in reader:\n",
        "            if y_count == y:\n",
        "                cell = n[x]\n",
        "                return cell\n",
        "            y_count += 1\n",
        "\n",
        "def closest_pond(lat1,lon1):\n",
        "  closest_distance = 10000000000000\n",
        "\n",
        "  for i in range(1,747):\n",
        "    lat2 = float(read_cell_coal_ash(3,i))\n",
        "    lon2 = float(read_cell_coal_ash(4,i))\n",
        "\n",
        "    current_distance = find_distance(radians(lat1),radians(-lon1),radians(lat2),radians(lon2))\n",
        "    if current_distance < closest_distance:\n",
        "      closest_distance = current_distance\n",
        "      coal_ash_liner = read_cell_coal_ash(2,i)\n",
        "\n",
        "  return closest_distance,coal_ash_liner\n",
        "\n",
        "\n",
        "#loops through each of the 4800 soil patches\n",
        "distance = []\n",
        "for i in range (1,10001):\n",
        "  lat1 = float(read_cell_soil(0,i))\n",
        "  lon1 = float(read_cell_soil(1,i))\n",
        "  distance.append(str(closest_pond(lat1,lon1)))\n",
        "  #print(closest_pond(lat1,lon1))\n",
        "\n",
        "distances = pd.DataFrame()\n",
        "distances['NearestPond'] = distance\n",
        "distances['NearestPond'] = distances['NearestPond'].str.replace('(', '')\n",
        "distances['NearestPond'] = distances['NearestPond'].str.replace(')', '')\n",
        "distances['NearestPond'] = distances['NearestPond'].str.replace(\"'NA - Landfill'\", '0')\n",
        "distances['NearestPond'] = distances['NearestPond'].str.replace(\"'Lined'\", '1')\n",
        "distances['NearestPond'] = distances['NearestPond'].str.replace(\"'Unlined'\", '2')\n",
        "distances['NearestPond'] = distances['NearestPond'].str.replace(\"'NA - Closed by Removal'\", '3')\n",
        "distances[['NearestPond', 'Type']] = distances.NearestPond.str.split(\", \", expand = True)\n",
        "distances.to_csv('NearestPond.csv', index=False)\n",
        "#distances"
      ],
      "metadata": {
        "colab": {
          "base_uri": "https://localhost:8080/"
        },
        "id": "aOzNLNwfBB3w",
        "outputId": "98f93617-7084-4f4a-f2f8-5f1200eeaed4"
      },
      "execution_count": null,
      "outputs": [
        {
          "output_type": "stream",
          "name": "stderr",
          "text": [
            "<ipython-input-1-c99376a67ade>:75: FutureWarning: The default value of regex will change from True to False in a future version. In addition, single character regular expressions will *not* be treated as literal strings when regex=True.\n",
            "  distances['NearestPond'] = distances['NearestPond'].str.replace('(', '')\n",
            "<ipython-input-1-c99376a67ade>:76: FutureWarning: The default value of regex will change from True to False in a future version. In addition, single character regular expressions will *not* be treated as literal strings when regex=True.\n",
            "  distances['NearestPond'] = distances['NearestPond'].str.replace(')', '')\n"
          ]
        }
      ]
    }
  ],
  "metadata": {
    "colab": {
      "provenance": []
    },
    "kernelspec": {
      "display_name": "Python 3",
      "name": "python3"
    },
    "language_info": {
      "name": "python"
    }
  },
  "nbformat": 4,
  "nbformat_minor": 0
}