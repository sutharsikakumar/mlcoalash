{
  "nbformat": 4,
  "nbformat_minor": 0,
  "metadata": {
    "colab": {
      "provenance": []
    },
    "kernelspec": {
      "name": "python3",
      "display_name": "Python 3"
    },
    "language_info": {
      "name": "python"
    }
  },
  "cells": [
    {
      "cell_type": "code",
      "execution_count": null,
      "metadata": {
        "id": "AWVUBw1ThWW4",
        "outputId": "3cd1e996-dbc2-40e1-8797-5d23df3efc1c",
        "colab": {
          "base_uri": "https://localhost:8080/",
          "height": 240
        }
      },
      "outputs": [
        {
          "output_type": "error",
          "ename": "TypeError",
          "evalue": "ignored",
          "traceback": [
            "\u001b[0;31m---------------------------------------------------------------------------\u001b[0m",
            "\u001b[0;31mTypeError\u001b[0m                                 Traceback (most recent call last)",
            "\u001b[0;32m<ipython-input-2-49ba56480664>\u001b[0m in \u001b[0;36m<module>\u001b[0;34m\u001b[0m\n\u001b[1;32m     61\u001b[0m \u001b[0mcounts\u001b[0m \u001b[0;34m=\u001b[0m \u001b[0;34m[\u001b[0m\u001b[0;34m]\u001b[0m\u001b[0;34m\u001b[0m\u001b[0;34m\u001b[0m\u001b[0m\n\u001b[1;32m     62\u001b[0m \u001b[0;32mfor\u001b[0m \u001b[0mi\u001b[0m \u001b[0;32min\u001b[0m \u001b[0mrange\u001b[0m \u001b[0;34m(\u001b[0m\u001b[0;36m1\u001b[0m\u001b[0;34m,\u001b[0m\u001b[0;36m40001\u001b[0m\u001b[0;34m)\u001b[0m\u001b[0;34m:\u001b[0m\u001b[0;34m\u001b[0m\u001b[0;34m\u001b[0m\u001b[0m\n\u001b[0;32m---> 63\u001b[0;31m   \u001b[0msoil_lat\u001b[0m \u001b[0;34m=\u001b[0m \u001b[0mfloat\u001b[0m\u001b[0;34m(\u001b[0m\u001b[0mread_cell_soil\u001b[0m\u001b[0;34m(\u001b[0m\u001b[0;36m0\u001b[0m\u001b[0;34m,\u001b[0m\u001b[0mi\u001b[0m\u001b[0;34m)\u001b[0m\u001b[0;34m)\u001b[0m\u001b[0;34m\u001b[0m\u001b[0;34m\u001b[0m\u001b[0m\n\u001b[0m\u001b[1;32m     64\u001b[0m   \u001b[0msoil_long\u001b[0m \u001b[0;34m=\u001b[0m \u001b[0mfloat\u001b[0m\u001b[0;34m(\u001b[0m\u001b[0mread_cell_soil\u001b[0m\u001b[0;34m(\u001b[0m\u001b[0;36m1\u001b[0m\u001b[0;34m,\u001b[0m\u001b[0mi\u001b[0m\u001b[0;34m)\u001b[0m\u001b[0;34m)\u001b[0m\u001b[0;34m\u001b[0m\u001b[0;34m\u001b[0m\u001b[0m\n\u001b[1;32m     65\u001b[0m   \u001b[0mcounts\u001b[0m\u001b[0;34m.\u001b[0m\u001b[0mappend\u001b[0m\u001b[0;34m(\u001b[0m\u001b[0mstr\u001b[0m\u001b[0;34m(\u001b[0m\u001b[0mnumber_of_ponds\u001b[0m\u001b[0;34m(\u001b[0m\u001b[0msoil_lat\u001b[0m\u001b[0;34m,\u001b[0m\u001b[0msoil_long\u001b[0m\u001b[0;34m)\u001b[0m\u001b[0;34m)\u001b[0m\u001b[0;34m)\u001b[0m\u001b[0;34m\u001b[0m\u001b[0;34m\u001b[0m\u001b[0m\n",
            "\u001b[0;31mTypeError\u001b[0m: float() argument must be a string or a number, not 'NoneType'"
          ]
        }
      ],
      "source": [
        "# concept practice run, will import data and set variables\n",
        "\n",
        "import csv\n",
        "import pandas as pd\n",
        "\n",
        "#coal ash\n",
        "coalash = 'Coal Ash.csv'\n",
        "#hyperspectral swaths\n",
        "soil = 'soil.csv'\n",
        "\n",
        "def read_cell_coal_ash(x, y):\n",
        "    with open('Coal Ash.csv', 'r') as f:\n",
        "        reader = csv.reader(f)\n",
        "        y_count = 0\n",
        "        for n in reader:\n",
        "            if y_count == y:\n",
        "                cell = n[x]\n",
        "                return cell\n",
        "            y_count += 1\n",
        "\n",
        "def read_cell_soil(x, y):\n",
        "    with open('soil.csv', 'r') as f:\n",
        "        reader = csv.reader(f)\n",
        "        y_count = 0\n",
        "        for n in reader:\n",
        "            if y_count == y:\n",
        "                cell = n[x]\n",
        "                return cell\n",
        "            y_count += 1\n",
        "\n",
        "def number_of_ponds(soil_lat,soil_long):\n",
        "  counter = 0\n",
        "  lined_counter = 0\n",
        "  unlined_counter = 0\n",
        "  unknown_counter = 0\n",
        "\n",
        "  for i in range(1,747):\n",
        "    coal_ash_lat = float(read_cell_coal_ash(3,i))\n",
        "    coal_ash_long = float(read_cell_coal_ash(4,i))\n",
        "    coal_ash_liner = read_cell_coal_ash(2,i)\n",
        "    max_lat = soil_lat+.4495756\n",
        "    min_lat = soil_lat-.4495756\n",
        "    max_long = soil_long-.7340287\n",
        "    min_long = soil_long+.7340287\n",
        "    if coal_ash_lat > min_lat and coal_ash_lat < max_lat and coal_ash_long > max_long and coal_ash_long < min_long:\n",
        "      counter += 1\n",
        "      if coal_ash_liner == \"Unlined\":\n",
        "        unlined_counter += 1\n",
        "      elif coal_ash_liner == \"Lined\":\n",
        "        lined_counter += 1\n",
        "      else:\n",
        "        unknown_counter += 1\n",
        "\n",
        "  return counter,unlined_counter,lined_counter,unknown_counter\n",
        "\n",
        "\n",
        "\n",
        "\n",
        "#loops through each of the 4800 soil patches\n",
        "\n",
        "counts = []\n",
        "for i in range (1,10001):\n",
        "  soil_lat = float(read_cell_soil(0,i))\n",
        "  soil_long = float(read_cell_soil(1,i))\n",
        "  counts.append(str(number_of_ponds(soil_lat,soil_long)))\n",
        "  #print(number_of_ponds(soil_lat,soil_long))\n",
        "\n",
        "within_radius = pd.DataFrame()\n",
        "\n",
        "within_radius['predictedConcentration'] = counts\n",
        "within_radius['predictedConcentration'] = within_radius['predictedConcentration'].str.replace('(', '')\n",
        "within_radius['predictedConcentration'] = within_radius['predictedConcentration'].str.replace(')', '')\n",
        "within_radius[['Total', 'Unlined','Lined','Unknown']] = within_radius.predictedConcentration.str.split(\", \", expand = True)\n",
        "within_radius = within_radius.drop(['predictedConcentration'], axis=1)\n",
        "within_radius.to_csv('50km.csv', index=False)\n",
        "within_radius"
      ]
    }
  ]
}